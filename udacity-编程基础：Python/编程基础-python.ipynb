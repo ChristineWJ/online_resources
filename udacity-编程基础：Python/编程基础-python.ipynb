{
 "cells": [
  {
   "cell_type": "code",
   "execution_count": null,
   "metadata": {},
   "outputs": [
    {
     "name": "stdout",
     "output_type": "stream",
     "text": [
      "start...\n"
     ]
    }
   ],
   "source": [
    "#定时休息\n",
    "\n",
    "import time\n",
    "import webbrowser\n",
    "\n",
    "print('start...')\n",
    "url=\"http://www.iqiyi.com/index.html\"\n",
    "total_breaks=3\n",
    "break_count=0\n",
    "while break_count<total_breaks:\n",
    "    time.sleep(2*60*60)\n",
    "    webbrowser.open(url)\n",
    "    break_count+=1\n",
    "print('ebd...')\n"
   ]
  },
  {
   "cell_type": "code",
   "execution_count": 52,
   "metadata": {},
   "outputs": [],
   "source": [
    "#随机加密图片\n",
    "\n",
    "import os\n",
    "import random\n",
    "save_dir=os.getcwd()\n",
    "dirpath=r'D:\\sources\\beauty'\n",
    "os.chdir(dirpath)\n",
    "for file_name in os.listdir(dirpath):\n",
    "    rand_a=int(random.random()*1000)\n",
    "    rand_b=int(random.random()*1000)\n",
    "    postfix=file_name[-4:]\n",
    "    name=file_name[:file_name.index('.')]\n",
    "    new_name=str(rand_a)+name.translate(None,'0123456789')+str(rand_b)+postfix\n",
    "    os.rename(file_name,str(rand_num)+new_name)\n",
    "os.chdir(save_dir)"
   ]
  },
  {
   "cell_type": "code",
   "execution_count": 53,
   "metadata": {},
   "outputs": [],
   "source": [
    "#解密\n",
    "\n",
    "import os\n",
    "save_dir=os.getcwd()\n",
    "dirpath=r'D:\\sources\\beauty'\n",
    "os.chdir(dirpath)\n",
    "for file_name in os.listdir(dirpath):\n",
    "    os.rename(file_name,file_name.translate(None,'0123456789'))\n",
    "os.chdir(save_dir)"
   ]
  },
  {
   "cell_type": "code",
   "execution_count": 3,
   "metadata": {},
   "outputs": [],
   "source": [
    "#画画\n",
    "import turtle\n",
    "window=turtle.Screen()\n",
    "window.bgcolor('red')\n",
    "brad=turtle.Turtle()\n",
    "brad.color('yellow')\n",
    "brad.speed(2)\n",
    "brad.forward(100)\n",
    "brad.right(90)\n",
    "brad.forward(100)\n",
    "brad.right(90)\n",
    "brad.forward(100)\n",
    "brad.right(90)\n",
    "brad.forward(100)\n",
    "brad.right(90)\n",
    "angie=turtle.Turtle()\n",
    "angie.color('blue')\n",
    "angie.speed(2)\n",
    "angie.circle(100)\n",
    "window.exitonclick()"
   ]
  },
  {
   "cell_type": "code",
   "execution_count": 8,
   "metadata": {},
   "outputs": [
    {
     "name": "stdout",
     "output_type": "stream",
     "text": [
      "SM3d79bb634e3d4d6eaccaecf5b18717bb\n"
     ]
    }
   ],
   "source": [
    "#发短信\n",
    "\n",
    "from twilio.rest import Client\n",
    "\n",
    "# Your Account SID from twilio.com/console\n",
    "account_sid = \"mimi\"\n",
    "# Your Auth Token from twilio.com/console\n",
    "auth_token  = \"mimi\"\n",
    "\n",
    "client = Client(account_sid, auth_token)\n",
    "\n",
    "message = client.messages.create(\n",
    "    to=\"+xx\", \n",
    "    from_=\"+xx\",\n",
    "    body=\"Hello from Python!This is a SMS API test.\")\n",
    "\n",
    "print(message.sid)"
   ]
  },
  {
   "cell_type": "code",
   "execution_count": null,
   "metadata": {},
   "outputs": [],
   "source": [
    "#冒犯用语检测器\n",
    "\n",
    "import urllib\n",
    "\n",
    "def check_curve_words(text):\n",
    "    connection=urllib.urlopen(\"http://www.wdylike.appspot.com/?q=\"+text)\n",
    "    output=connection.read()\n",
    "    print(output)\n",
    "    connection.close()\n",
    "    \n",
    "check_curve_words('shit')\n"
   ]
  },
  {
   "cell_type": "code",
   "execution_count": 13,
   "metadata": {},
   "outputs": [],
   "source": [
    "import webbrowser\n",
    "class Movie(object):\n",
    "    '''\n",
    "    this is Movie's doc\n",
    "    '''\n",
    "    def __init__(self,movie_title,movie_storyline,poster_img,trailer):\n",
    "        self.title=movie_title\n",
    "        self.storyline=movie_storyline\n",
    "        self.poster_img=poster_img\n",
    "        self.trailer=trailer\n",
    "    def show_trailer(self):\n",
    "        webbrowser.open(self.trailer)\n",
    "    def __unicode__(self):\n",
    "        return self.title,self,storyline\n",
    "        \n",
    "    \n",
    "a=Movie('a','b','c','http://www.iqiyi.com/index.html')\n",
    "# a.show_trailer()\n",
    "\n"
   ]
  },
  {
   "cell_type": "code",
   "execution_count": 17,
   "metadata": {
    "scrolled": true
   },
   "outputs": [
    {
     "name": "stdout",
     "output_type": "stream",
     "text": [
      "Movie\n",
      "\n",
      "    this is Movie's doc\n",
      "    \n",
      "__main__\n"
     ]
    }
   ],
   "source": [
    "print(Movie.__name__)\n",
    "print(Movie.__doc__)\n",
    "print(Movie.__module__)\n"
   ]
  },
  {
   "cell_type": "code",
   "execution_count": null,
   "metadata": {},
   "outputs": [],
   "source": [
    "%pwd\n"
   ]
  },
  {
   "cell_type": "code",
   "execution_count": null,
   "metadata": {},
   "outputs": [],
   "source": []
  }
 ],
 "metadata": {
  "kernelspec": {
   "display_name": "Python 2",
   "language": "python",
   "name": "python2"
  },
  "language_info": {
   "codemirror_mode": {
    "name": "ipython",
    "version": 2
   },
   "file_extension": ".py",
   "mimetype": "text/x-python",
   "name": "python",
   "nbconvert_exporter": "python",
   "pygments_lexer": "ipython2",
   "version": "2.7.14"
  }
 },
 "nbformat": 4,
 "nbformat_minor": 2
}
