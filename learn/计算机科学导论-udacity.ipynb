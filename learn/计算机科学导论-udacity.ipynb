{
 "cells": [
  {
   "cell_type": "code",
   "execution_count": 1,
   "metadata": {},
   "outputs": [
    {
     "name": "stdout",
     "output_type": "stream",
     "text": [
      "70560\n",
      "hello\n",
      "('Hello', 'Bob')\n",
      "str+4\n",
      "str+str+str+str+Bob\n"
     ]
    }
   ],
   "source": [
    "print(1*60*24*7*7)\n",
    "print(\"hello\")\n",
    "\n",
    "name='Bob'\n",
    "print(\"Hello\",name)\n",
    "\n",
    "#print(\"str+\"+7) #exception\n",
    "print(\"str+\"+str(4))\n",
    "print(\"str+\"*4+name)\n"
   ]
  },
  {
   "cell_type": "code",
   "execution_count": 2,
   "metadata": {
    "scrolled": true
   },
   "outputs": [
    {
     "name": "stdout",
     "output_type": "stream",
     "text": [
      "('u', 'a', 'y')\n",
      "ud\n",
      "('0123456789', '0123456789')\n",
      "12\n",
      "02468\n",
      "9876543210\n",
      "789\n",
      "test1\n",
      "Udacity\n",
      "('adacity', 'adacit', 'adacity', 'adacity', 'adacity')\n",
      "(0, 0, 0)\n",
      "(-1, 6, 0)\n",
      "0\n",
      "13\n",
      "24\n",
      "41\n",
      "55\n",
      "over\n"
     ]
    }
   ],
   "source": [
    "#string\n",
    "s1=\"udacity\"\n",
    "s='0123456789'\n",
    "\n",
    "#index str\n",
    "print(s1[0],s1[1+1],s1[-1])\n",
    "print(s1[0]+s1[1])\n",
    "\n",
    "#select sub sequence\n",
    "print(s[:],s[::])\n",
    "print(s[1:3])\n",
    "print(s[::2])\n",
    "print(s[::-1])\n",
    "print(s[-3:])\n",
    "\n",
    "#test1\n",
    "print('test1')\n",
    "s='adacity'\n",
    "print('U'+s[1:])\n",
    "#test2\n",
    "print(s[:],s[:-1],s[0:],s+s[0:-1+1],s[:3]+s[3:])\n",
    "\n",
    "#find sub string in string\n",
    "print(s.find(''),s.find(s),s.find(s+'!!!')+1)\n",
    "print(s.find('1'),s.find('y'),s.find('a'))\n",
    "\n",
    "s=\"123 asdasdad 123 asdasd 123 asd sada sad 123 asd asdas 123\"\n",
    "#打印出全部123的位置\n",
    "currnt_index=s.find('123')\n",
    "while currnt_index<len(s) and currnt_index!=-1:\n",
    "    print(currnt_index)\n",
    "    currnt_index=s.find('123',currnt_index+1)\n",
    "print('over')"
   ]
  },
  {
   "cell_type": "code",
   "execution_count": 3,
   "metadata": {},
   "outputs": [],
   "source": [
    "page =('<div id=\"top_bin\"><div id=\"top_content\" class=\"width960\">'\n",
    "'<div class=\"udacity float-left\"><a href=\"http://udacity.com\">')\n",
    "\n",
    "start_link = page.find('<a href=')\n",
    "url=page[page.find('\"',start_link)+1:page.find('\">',start_link)]\n",
    "\n"
   ]
  },
  {
   "cell_type": "code",
   "execution_count": 4,
   "metadata": {},
   "outputs": [
    {
     "name": "stdout",
     "output_type": "stream",
     "text": [
      "4\n"
     ]
    }
   ],
   "source": [
    "def fun(x):\n",
    "    s=str(x)\n",
    "    result=int(x)\n",
    "    dot_pos=s.find('.')\n",
    "    meta=s[dot_pos+1]\n",
    "    if int(meta)>=5:\n",
    "        return result+1\n",
    "    else:\n",
    "        return result\n",
    "x=3.54156\n",
    "print(fun(x))"
   ]
  },
  {
   "cell_type": "raw",
   "metadata": {},
   "source": []
  },
  {
   "cell_type": "code",
   "execution_count": 5,
   "metadata": {},
   "outputs": [
    {
     "name": "stdout",
     "output_type": "stream",
     "text": [
      "Udacity\n"
     ]
    }
   ],
   "source": [
    "s=\"CidatyUcityda\"\n",
    "\n",
    "print(s[-7]+s[2:4]+s[7:11])"
   ]
  },
  {
   "cell_type": "code",
   "execution_count": 6,
   "metadata": {},
   "outputs": [
    {
     "name": "stdout",
     "output_type": "stream",
     "text": [
      "(6, 9)\n",
      "('abba', 'dogcatcatdog')\n",
      "10\n",
      "9\n",
      "8\n",
      "7\n",
      "6\n",
      "5\n",
      "4\n",
      "3\n",
      "2\n",
      "1\n",
      "11\n"
     ]
    }
   ],
   "source": [
    "def sum(*args):\n",
    "    return reduce(lambda x,y:x+y,args)\n",
    "\n",
    "def abbaize(a,b):\n",
    "    return a+b+b+a\n",
    "\n",
    "print(sum(1,2,3),sum(2,3,4))\n",
    "print(abbaize('a','b'),abbaize('dog','cat'))\n",
    "\n",
    "def find_second(source,target):\n",
    "    first_pos=source.find(target)\n",
    "    second_pos=source.find(target,first_pos+1)\n",
    "    return second_pos\n",
    "\n",
    "def print_numbers(x):\n",
    "    while x>0:\n",
    "        print(x)\n",
    "        x=x-1\n",
    "print_numbers(10)\n",
    "print(find_second('a b c d  e b f g ','b'))"
   ]
  },
  {
   "cell_type": "code",
   "execution_count": 7,
   "metadata": {},
   "outputs": [],
   "source": [
    "def get_next_target(page):\n",
    "    start_link=page.find(\"<a href=\")\n",
    "    if start_link == -1:\n",
    "        return None,0\n",
    "    start_quote=page.find('\"',start_link)\n",
    "    end_quote=page.find('\"',start_quote+1)\n",
    "    url=page[start_quote+1:end_quote]\n",
    "    return url,end_quote\n",
    "def print_all_links(page):\n",
    "    while True:\n",
    "        url,end_pos=get_next_target(page)\n",
    "        if url:\n",
    "            print(url)\n",
    "            page=page[end_pos:]\n",
    "        else:\n",
    "            break\n",
    "def get_page(url):\n",
    "    try:\n",
    "        import urllib\n",
    "        return urllib.urlopen(url).read()\n",
    "    except:\n",
    "        return ''"
   ]
  },
  {
   "cell_type": "code",
   "execution_count": 8,
   "metadata": {},
   "outputs": [
    {
     "name": "stdout",
     "output_type": "stream",
     "text": [
      "//www.iqiyi.com/\n",
      "http://vip.iqiyi.com/?fc=b4df9faa4b31aec4\n",
      "javascript:;\n",
      "javascript:;\n",
      "http://www.iqiyi.com/u/\n",
      "javascript:void(0)\n",
      "javascript:void(0);\n",
      "//www.iqiyi.com/u/editor/\n",
      "//www.iqiyi.com/u/channel\n",
      "//www.iqiyi.com/u/video\n",
      "http://www.iqiyi.com/u/a/video\n",
      "//mp.iqiyi.com/finance/income\n",
      "//www.iqiyi.com/u/a/profile\n",
      "//www.iqiyi.com/dv/iPartner.html\n",
      "javascript:void(0)\n",
      "javascript:void(0);\n",
      "javascript:void(0)\n",
      "http://www.iqiyi.com/dianying/\n",
      "http://www.iqiyi.com/weidianying/\n",
      "http://trailer.iqiyi.com/\n",
      "http://www.iqiyi.com/dianying/filmprogramme.html\n",
      "http://www.iqiyi.com/dianying/iqiyionly.html\n",
      "http://www.iqiyi.com/dianying/movieseries.html\n",
      "http://www.iqiyi.com/zhuanti/dianying.html\n",
      "http://vip.iqiyi.com/\n",
      "http://list.iqiyi.com/www/1/------27401-------11-1-1-iqiyi--.html\n",
      "http://list.iqiyi.com/www/1/------27401-------4-1-1-iqiyi--.html\n",
      "http://www.iqiyi.com/dianying/fgtwqa.html\n",
      "http://list.iqiyi.com/www/10/1007-------------11-1-2-iqiyi-1-.html\n",
      "http://list.iqiyi.com/www/1/------29698-------11-1-1-iqiyi--.html\n",
      "http://www.iqiyi.com/v_19rrdozr08.html?src=focustext_1_20130410_1\n",
      "http://www.iqiyi.com/v_19rrej1fio.html?src=focustext_1_20130410_2\n",
      "http://www.iqiyi.com/v_19rr7q1s5w.html?src=focustext_1_20130410_3\n",
      "http://www.iqiyi.com/dianying/thecinema.html?src=focustext_1_20130410_4\n",
      "http://www.iqiyi.com/v_19rre261hw.html?src=focustext_1_20130410_5\n",
      "http://vip.iqiyi.com/iqiyivipyhlmk-zx.html?src=focustext_1_20130410_6\n",
      "http://www.iqiyi.com/v_19rrdw5cs4.html?src=focustext_1_20130410_7\n",
      "http://www.iqiyi.com/v_19rre1dsmc.html?src=focustext_1_20130410_8\n",
      "http://www.iqiyi.com/v_19rr7p4iyo.html?src=focustext_1_20130410_9\n",
      "http://www.iqiyi.com/v_19rre1lgrg.html?src=focustext_1_20130410_10\n",
      "http://list.iqiyi.com/www/1/-------------11-1-1-iqiyi--.html\n",
      "http://list.iqiyi.com/www/1/----------0---11-1-1-iqiyi--.html\n",
      "http://list.iqiyi.com/www/1/----------2---11-1-1-iqiyi--.html\n",
      "http://list.iqiyi.com/www/1/-------------4-1-1-iqiyi--.html\n",
      "http://list.iqiyi.com/www/1/------27815-------11-1-1-iqiyi--.html\n",
      "http://list.iqiyi.com/www/1/-------------8-1-1-iqiyi--.html\n",
      "javascript:void(0);\n",
      "javascript:void(0);\n",
      "javascript:void(0);\n",
      "javascript:void(0);\n",
      "javascript:void(0);\n",
      "javascript:void(0);\n",
      "http://www.iqiyi.com/dianying_new/i_list_zuixinshangxian.html\n",
      "http://www.iqiyi.com/v_19rrjyphgs.html?list=19rrlckjum\n",
      "http://www.iqiyi.com/v_19rr7p7j3s.html?list=19rrlcqnsm\n",
      "http://www.iqiyi.com/v_19rrho6s4c.html?list=19rrlbsr2i\n",
      "javascript:void(0);\n",
      "javascript:void(0);\n",
      "http://www.iqiyi.com/v_19rrek5bsw.html#vfrm=19-9-0-1\n",
      "http://www.iqiyi.com/v_19rrej8h9k.html#vfrm=19-9-0-1\n",
      "http://www.iqiyi.com/v_19rrdqs0ys.html#vfrm=19-9-0-1\n",
      "http://www.iqiyi.com/v_19rrej5iv8.html#vfrm=19-9-0-1\n",
      "http://www.iqiyi.com/v_19rrej2x14.html#vfrm=19-9-0-1\n",
      "http://www.iqiyi.com/v_19rrejoo0w.html#vfrm=19-9-0-1\n",
      "http://www.iqiyi.com/v_19rrdqtm4s.html#vfrm=19-9-0-1\n",
      "http://www.iqiyi.com/v_19rrdqdw9g.html#vfrm=19-9-0-1\n",
      "http://www.iqiyi.com/v_19rrdrh2u0.html#vfrm=19-9-0-1\n",
      "http://www.iqiyi.com/v_19rrej3uoc.html#vfrm=19-9-0-1\n",
      "http://www.iqiyi.com/v_19rrejm3ow.html#vfrm=19-9-0-1\n",
      "javascript:;\n",
      "http://www.iqiyi.com/common/helpandsuggest.html?entry=channel\n",
      "http://app.iqiyi.com/pc/player/index.html#pcplayer\n",
      "http://www.iqiyi.com/common/aboutus.html\n",
      "http://www.iqiyi.com/common/news.html\n",
      "http://www.iqiyi.com/common/contactus.html\n",
      "http://zhaopin.iqiyi.com\n",
      "http://labs.iqiyi.com\n",
      "http://open.iqiyi.com/\n",
      "http://www.iqiyi.com/common/rz.html\n",
      "http://mp.iqiyi.com/\n",
      "http://help.iqiyi.com/\n",
      "http://www.iqiyi.com/common/copyright.html?entry=iqiyi\n",
      "http://www.iqiyi.com/common/20100420/n4813.html\n",
      "javascript:;\n",
      "javascript:;\n",
      "//www.iqiyi.com\n"
     ]
    }
   ],
   "source": [
    "print_all_links(get_page(\"http://www.iqiyi.com/dianying/\"))"
   ]
  },
  {
   "cell_type": "code",
   "execution_count": 9,
   "metadata": {},
   "outputs": [],
   "source": [
    "def count_down(n):\n",
    "    while n>=0:\n",
    "        import time\n",
    "        time.sleep(1)\n",
    "        print(n)\n",
    "        n=n-1\n",
    "    print('Blastoff!')\n",
    "    \n",
    "def fix_machine(debris, product):\n",
    "    ### WRITE YOUR CODE HERE ###\n",
    "    flag=True\n",
    "    for ch in product:\n",
    "        print(ch)\n",
    "        if ch not in debris:\n",
    "            flag=False\n",
    "            break\n",
    "    if flag:\n",
    "        print(\"Give me something that's not useless next time.\")\n",
    "    else:\n",
    "        print(product)"
   ]
  },
  {
   "cell_type": "code",
   "execution_count": 10,
   "metadata": {},
   "outputs": [
    {
     "name": "stdout",
     "output_type": "stream",
     "text": [
      "U\n",
      "d\n",
      "a\n",
      "c\n",
      "i\n",
      "t\n",
      "y\n",
      "Udacity\n"
     ]
    }
   ],
   "source": [
    "fix_machine('UdaciousUdacitee', 'Udacity') "
   ]
  },
  {
   "cell_type": "code",
   "execution_count": 11,
   "metadata": {},
   "outputs": [
    {
     "name": "stdout",
     "output_type": "stream",
     "text": [
      "Test case passed!\n",
      "Test case passed!\n",
      "Test case passed!\n",
      "Test with data: (2013, 1, 1, 1999, 12, 31) failed\n"
     ]
    }
   ],
   "source": [
    "def nextDay(year, month, day):\n",
    "    \"\"\"Simple version: assume every month has 30 days\"\"\"\n",
    "    if day < 30:\n",
    "        return year, month, day + 1\n",
    "    else:\n",
    "        if month == 12:\n",
    "            return year + 1, 1, 1\n",
    "        else:\n",
    "            return year, month + 1, 1\n",
    "        \n",
    "def dateIsBefore(year1, month1, day1, year2, month2, day2):\n",
    "    \"\"\"Returns True if year1-month1-day1 is before\n",
    "       year2-month2-day2. Otherwise, returns False.\"\"\"\n",
    "    if year1 < year2:\n",
    "        return True\n",
    "    if year1 == year2:\n",
    "        if month1 < month2:\n",
    "            return True\n",
    "        if month1 == month2:\n",
    "            return day1 < day2\n",
    "    return False        \n",
    "\n",
    "def daysBetweenDates(year1, month1, day1, year2, month2, day2):\n",
    "    \"\"\"Returns the number of days between year1/month1/day1\n",
    "       and year2/month2/day2. Assumes inputs are valid dates\n",
    "       in Gregorian calendar.\"\"\"\n",
    "    # program defensively! Add an assertion if the input is not valid!\n",
    "\n",
    "    days = 0\n",
    "    while dateIsBefore(year1, month1, day1, year2, month2, day2):\n",
    "        year1, month1, day1 = nextDay(year1, month1, day1)\n",
    "        days += 1\n",
    "    return days\n",
    "\n",
    "def test():\n",
    "    test_cases = [((2012,9,30,2012,10,30),30), \n",
    "                  ((2012,1,1,2013,1,1),360),\n",
    "                  ((2012,9,1,2012,9,4),3),\n",
    "                  ((2013,1,1,1999,12,31), \"AssertionError\")]\n",
    "    \n",
    "    for (args, answer) in test_cases:\n",
    "        try:\n",
    "            result = daysBetweenDates(*args)\n",
    "            if result != answer:\n",
    "                print \"Test with data:\", args, \"failed\"\n",
    "            else:\n",
    "                print \"Test case passed!\"\n",
    "        except AssertionError:\n",
    "            if answer == \"AssertionError\":\n",
    "                print \"Nice job! Test case {0} correctly raises AssertionError!\\n\".format(args)\n",
    "            else:\n",
    "                print \"Check your work! Test case {0} should not raise AssertionError!\\n\".format(args)            \n",
    "test()"
   ]
  },
  {
   "cell_type": "code",
   "execution_count": 12,
   "metadata": {},
   "outputs": [
    {
     "name": "stdout",
     "output_type": "stream",
     "text": [
      "['Y', 'e', 'l', 'l', 'o']\n",
      "([0, 0, 8], [0, 0, 8])\n",
      "([0, 0, 8, 0, 0, 8], None, None)\n"
     ]
    }
   ],
   "source": [
    "#list\n",
    "\n",
    "stooges=[\"Moe\",\"Larry\",\"Curly\"]\n",
    "days_in_month=[31,28,31,30,31,30,31,31,30,31,30,31]\n",
    "mixed_up=[1,2,3,4,[5,6,7],[8,9]]\n",
    "contries=[['china','beijing'],['india','delhi'],['us','washington']]\n",
    "\n",
    "#update list\n",
    "\n",
    "stooges[0]='Bob'\n",
    "stooges.append('Lili')\n",
    "\n",
    "p=list('hello')\n",
    "q=p\n",
    "p[0]='Y'\n",
    "print(q)\n",
    "\n",
    "spy=[0,0,7]\n",
    "agent=spy\n",
    "spy[2]=agent[2]+1\n",
    "print(spy,agent)\n",
    "print(spy+agent,spy.append(p),spy.extend(p))"
   ]
  },
  {
   "cell_type": "code",
   "execution_count": 13,
   "metadata": {},
   "outputs": [],
   "source": [
    "def add_to_index(index,keyword,url):\n",
    "    for entry in index:\n",
    "        if entry[0] == keyword:\n",
    "            entry[1].append(url)\n",
    "            return\n",
    "    index.append([keyword,[url]])\n",
    "\n",
    "def lookup(index,keyword):\n",
    "    for entry in index:\n",
    "        if entry[0]==keyword:\n",
    "            return entry[1]\n",
    "    return []\n",
    "\n",
    "def add_page_to_index(index,url,content):\n",
    "    words = content.split()\n",
    "    for word in words:\n",
    "        add_to_index(index,word,url)\n",
    "    \n",
    "\n",
    "\n",
    "# def add_to_index(index, keyword, url):\n",
    "#     for entry in index:\n",
    "#         if entry[0] == keyword:\n",
    "#             entry[1].append(url)\n",
    "#             return\n",
    "#     index.append([keyword, [url]])\n",
    "\n",
    "# def lookup(index, keyword):\n",
    "#     for entry in index:\n",
    "#         if entry[0] == keyword:\n",
    "#             return entry[1]\n",
    "#     return []\n",
    "\n",
    "# def add_page_to_index(index, url, content):\n",
    "#     words = content.split()\n",
    "#     for word in words:\n",
    "#         add_to_index(index, word, url)\n",
    "\n",
    "\n",
    "\n",
    "def crawl_web(seed):\n",
    "    tocrawl=[seed]\n",
    "    crawed=[]\n",
    "    index=[]\n",
    "    while to_crawl:\n",
    "        page=tocrawl.pop()\n",
    "        if page not in crawed:\n",
    "            crawed.append(page)\n",
    "            content=get_page(page)\n",
    "            add_page_to_index(index,page,content)\n",
    "            union(tocrawl,get_all_links(content))\n",
    "            crawed.append(page)\n",
    "    return index"
   ]
  },
  {
   "cell_type": "code",
   "execution_count": 14,
   "metadata": {},
   "outputs": [
    {
     "name": "stdout",
     "output_type": "stream",
     "text": [
      "['https://www.baidu.com/']\n"
     ]
    }
   ],
   "source": [
    "#test\n",
    "\n",
    "index=[]\n",
    "add_to_index(index,'baidu','https://www.baidu.com/')\n",
    "add_to_index(index,'aqy','http://www.iqiyi.com/')\n",
    "add_to_index(index,'vipsp','http://www.vipsp.cc/')\n",
    "\n",
    "# index = [['udacity', ['http://udacity.com', 'http://npr.org']],\n",
    "#          ['computing', ['http://acm.org']]]\n",
    "print(lookup(index,'baidu'))"
   ]
  },
  {
   "cell_type": "code",
   "execution_count": 15,
   "metadata": {},
   "outputs": [],
   "source": [
    "index=[]\n",
    "add_page_to_index(index,'fake.text',\"This is a test\")"
   ]
  },
  {
   "cell_type": "code",
   "execution_count": 16,
   "metadata": {},
   "outputs": [
    {
     "data": {
      "text/plain": [
       "[['This', ['fake.text']],\n",
       " ['is', ['fake.text']],\n",
       " ['a', ['fake.text']],\n",
       " ['test', ['fake.text']]]"
      ]
     },
     "execution_count": 16,
     "metadata": {},
     "output_type": "execute_result"
    }
   ],
   "source": [
    "index"
   ]
  },
  {
   "cell_type": "code",
   "execution_count": 21,
   "metadata": {},
   "outputs": [],
   "source": [
    "#秒表\n",
    "import time\n",
    "\n",
    "\n",
    "def spin_loop(n):\n",
    "    while n>0:\n",
    "        n=n-1\n",
    "\n",
    "def excute_time(code):\n",
    "    start=time.clock()\n",
    "    result=eval(code)\n",
    "    runtime=time.clock()-start\n",
    "    return result,runtime\n",
    "\n"
   ]
  },
  {
   "cell_type": "code",
   "execution_count": 29,
   "metadata": {},
   "outputs": [
    {
     "data": {
      "text/plain": [
       "(None, 0.03610131152572649)"
      ]
     },
     "execution_count": 29,
     "metadata": {},
     "output_type": "execute_result"
    }
   ],
   "source": [
    "excute_time('spin_loop(10**6)')"
   ]
  },
  {
   "cell_type": "code",
   "execution_count": 30,
   "metadata": {},
   "outputs": [
    {
     "data": {
      "text/plain": [
       "97"
      ]
     },
     "execution_count": 30,
     "metadata": {},
     "output_type": "execute_result"
    }
   ],
   "source": [
    "ord('a')"
   ]
  },
  {
   "cell_type": "code",
   "execution_count": 31,
   "metadata": {},
   "outputs": [
    {
     "data": {
      "text/plain": [
       "'a'"
      ]
     },
     "execution_count": 31,
     "metadata": {},
     "output_type": "execute_result"
    }
   ],
   "source": [
    "chr(97)"
   ]
  },
  {
   "cell_type": "code",
   "execution_count": 34,
   "metadata": {},
   "outputs": [
    {
     "data": {
      "text/plain": [
       "'b'"
      ]
     },
     "execution_count": 34,
     "metadata": {},
     "output_type": "execute_result"
    }
   ],
   "source": [
    "chr(ord(chr(97))+1)"
   ]
  },
  {
   "cell_type": "code",
   "execution_count": 40,
   "metadata": {},
   "outputs": [
    {
     "name": "stdout",
     "output_type": "stream",
     "text": [
      "{'a': 1, 'b': 2}\n",
      "True\n",
      "1\n"
     ]
    }
   ],
   "source": [
    "elements={'a':1,'b':2}\n",
    "print(elements)\n",
    "print('a' in elements)\n",
    "print(elements['a'])"
   ]
  },
  {
   "cell_type": "code",
   "execution_count": 57,
   "metadata": {},
   "outputs": [],
   "source": [
    "def shift(letter,n):\n",
    "    ch=chr((ord(letter)+n-ord('a'))%26+ord('a'))\n",
    "    return ch"
   ]
  },
  {
   "cell_type": "code",
   "execution_count": 60,
   "metadata": {},
   "outputs": [
    {
     "data": {
      "text/plain": [
       "'z'"
      ]
     },
     "execution_count": 60,
     "metadata": {},
     "output_type": "execute_result"
    }
   ],
   "source": [
    "shift('a',-1)"
   ]
  },
  {
   "cell_type": "code",
   "execution_count": 68,
   "metadata": {},
   "outputs": [],
   "source": [
    "def remove_tags(string):\n",
    "    start=string.find('<')\n",
    "    if string:\n",
    "        while start!=-1:\n",
    "        end=string.find('>',start)\n",
    "        string=string[:start]+' '+string[end+1:]\n",
    "        start=string.find('<',end)\n",
    "        return string.split()\n",
    "    return []"
   ]
  },
  {
   "cell_type": "code",
   "execution_count": 74,
   "metadata": {},
   "outputs": [],
   "source": [
    "def is_list(p):\n",
    "    return isinstance(p, list)\n",
    "\n",
    "\n",
    "def deep_reverse(lst):\n",
    "    if is_list(lst):\n",
    "        result=[]\n",
    "        for i in range(len(lst)-1,-1,-1):\n",
    "            result.append(deep_reverse(lst[i]))\n",
    "        return result\n",
    "    else:\n",
    "        return lst\n",
    "            "
   ]
  },
  {
   "cell_type": "code",
   "execution_count": 72,
   "metadata": {},
   "outputs": [
    {
     "name": "stdout",
     "output_type": "stream",
     "text": [
      "5\n",
      "4\n",
      "3\n",
      "2\n",
      "1\n"
     ]
    }
   ],
   "source": [
    "lst=[1,2,3,4,5]\n",
    "for i in range(len(lst)-1,-1,-1):\n",
    "    print(lst[i])"
   ]
  },
  {
   "cell_type": "code",
   "execution_count": null,
   "metadata": {},
   "outputs": [],
   "source": []
  }
 ],
 "metadata": {
  "kernelspec": {
   "display_name": "Python 2",
   "language": "python",
   "name": "python2"
  },
  "language_info": {
   "codemirror_mode": {
    "name": "ipython",
    "version": 2
   },
   "file_extension": ".py",
   "mimetype": "text/x-python",
   "name": "python",
   "nbconvert_exporter": "python",
   "pygments_lexer": "ipython2",
   "version": "2.7.14"
  }
 },
 "nbformat": 4,
 "nbformat_minor": 2
}
